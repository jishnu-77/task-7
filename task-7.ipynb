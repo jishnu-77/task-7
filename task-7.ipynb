{
 "cells": [
  {
   "cell_type": "code",
   "execution_count": 1,
   "id": "4d46c8c7-707e-438e-843e-debe42a71d2b",
   "metadata": {},
   "outputs": [],
   "source": [
    "import pandas as pd\n",
    "import sqlite3\n",
    "import matplotlib.pyplot as plt"
   ]
  },
  {
   "cell_type": "code",
   "execution_count": 2,
   "id": "d4f78b9a-074f-4ca2-a76f-2113b574ed95",
   "metadata": {},
   "outputs": [],
   "source": [
    "conn = sqlite3.connect('sales.db')\n",
    "cursor = conn.cursor()"
   ]
  },
  {
   "cell_type": "code",
   "execution_count": 3,
   "id": "f5296000-fc1f-46b4-8641-b1cb165981cf",
   "metadata": {},
   "outputs": [
    {
     "data": {
      "text/plain": [
       "<sqlite3.Cursor at 0x12f57aa40>"
      ]
     },
     "execution_count": 3,
     "metadata": {},
     "output_type": "execute_result"
    }
   ],
   "source": [
    "queries_create = '''\n",
    "    CREATE TABLE IF NOT EXISTS online_sales(\n",
    "        `Transaction ID` INT, \n",
    "        Date DATE, \n",
    "        `Product Category` VARCHAR(50),\n",
    "        `Product Name` VARCHAR(50),\n",
    "        `Units Sold` VARCHAR(50),\n",
    "        `Unit Price` DECIMAL(10,2),\n",
    "        `Total Revenue` DECIMAL(10,2),\n",
    "        Region VARCHAR(50),\n",
    "        `Payment Method` VARCHAR(50)\n",
    "    )\n",
    "'''\n",
    "\n",
    "cursor.execute(queries_create)"
   ]
  },
  {
   "cell_type": "code",
   "execution_count": 4,
   "id": "1b76cb4e-3620-4137-b8df-dcab13274b57",
   "metadata": {},
   "outputs": [
    {
     "data": {
      "text/plain": [
       "<sqlite3.Cursor at 0x12f57aa40>"
      ]
     },
     "execution_count": 4,
     "metadata": {},
     "output_type": "execute_result"
    }
   ],
   "source": [
    "queries_insert_1 = '''\n",
    "    INSERT INTO online_sales(\n",
    "        `Transaction ID`, \n",
    "        Date, \n",
    "        `Product Category`, \n",
    "        `Product Name`, \n",
    "        `Units Sold`, \n",
    "        `Unit Price`,\n",
    "        `Total Revenue`,\n",
    "        Region,\n",
    "        `Payment Method`\n",
    "    ) VALUES\n",
    "        (10001,\"2024-01-01\",\"Electronics\",\"iPhone 14 Pro\",2,999.99,1999.98,\"North America\",\"Credit Card\"),\n",
    "        (10002,\"2024-01-02\",\"Home Appliances\",\"Dyson V11 Vacuum\",1,499.99,499.99,\"Europe\",\"PayPal\"),\n",
    "        (10003,\"2024-01-03\",\"Clothing\",\"Levi's 501 Jeans\",3,69.99,209.97,\"Asia\",\"Debit Card\"),\n",
    "        (10004,\"2024-01-04\",\"Books\",\"The Da Vinci Code\",4,15.99,63.96,\"North America\",\"Credit Card\"),\n",
    "        (10005,\"2024-01-05\",\"Beauty Products\",\"Neutrogena Skincare Set\",1,89.99,89.99,\"Europe\",\"PayPal\"),\n",
    "        (10006,\"2024-01-06\",\"Sports\",\"Wilson Evolution Basketball\",5,29.99,149.95,\"Asia\",\"Credit Card\"),\n",
    "        (10007,\"2024-01-07\",\"Electronics\",\"MacBook Pro 16-inch\",1,2499.99,2499.99,\"North America\",\"Credit Card\"),\n",
    "        (10008,\"2024-01-08\",\"Home Appliances\",\"Blueair Classic 480i\",2,599.99,1199.98,\"Europe\",\"PayPal\"),\n",
    "        (10009,\"2024-01-09\",\"Clothing\",\"Nike Air Force 1\",6,89.99,539.94,\"Asia\",\"Debit Card\"),\n",
    "        (10010,\"2024-01-10\",\"Books\",\"Dune by Frank Herbert\",2,25.99,51.98,\"North America\",\"Credit Card\"),\n",
    "        (10011,\"2024-01-11\",\"Beauty Products\",\"Chanel No. 5 Perfume\",1,129.99,129.99,\"Europe\",\"PayPal\"),\n",
    "        (10012,\"2024-01-12\",\"Sports\",\"Babolat Pure Drive Tennis Racket\",3,199.99,599.97,\"Asia\",\"Credit Card\"),\n",
    "        (10013,\"2024-01-13\",\"Electronics\",\"Samsung Galaxy Tab S8\",2,749.99,1499.98,\"North America\",\"Credit Card\"),\n",
    "        (10014,\"2024-01-14\",\"Home Appliances\",\"Keurig K-Elite Coffee Maker\",1,189.99,189.99,\"Europe\",\"PayPal\"),\n",
    "        (10015,\"2024-01-15\",\"Clothing\",\"North Face Down Jacket\",2,249.99,499.98,\"Asia\",\"Debit Card\"),\n",
    "        (10016,\"2024-01-16\",\"Books\",\"Salt, Fat, Acid, Heat by Samin Nosrat\",3,35.99,107.97,\"North America\",\"Credit Card\"),\n",
    "        (10017,\"2024-01-17\",\"Beauty Products\",\"Dyson Supersonic Hair Dryer\",1,399.99,399.99,\"Europe\",\"PayPal\"),\n",
    "        (10018,\"2024-01-18\",\"Sports\",\"Manduka PRO Yoga Mat\",4,119.99,479.96,\"Asia\",\"Credit Card\"),\n",
    "        (10019,\"2024-01-19\",\"Electronics\",\"Garmin Forerunner 945\",2,499.99,999.98,\"North America\",\"Credit Card\"),\n",
    "        (10020,\"2024-01-20\",\"Home Appliances\",\"Ninja Professional Blender\",1,99.99,99.99,\"Europe\",\"PayPal\"),\n",
    "        (10021,\"2024-01-21\",\"Clothing\",\"Zara Summer Dress\",3,59.99,179.97,\"Asia\",\"Debit Card\"),\n",
    "        (10022,\"2024-01-22\",\"Books\",\"Gone Girl by Gillian Flynn\",2,22.99,45.98,\"North America\",\"Credit Card\"),\n",
    "        (10023,\"2024-01-23\",\"Beauty Products\",\"Olay Regenerist Face Cream\",1,49.99,49.99,\"Europe\",\"PayPal\"),\n",
    "        (10024,\"2024-01-24\",\"Sports\",\"Adidas FIFA World Cup Football\",3,29.99,89.97,\"Asia\",\"Credit Card\"),\n",
    "        (10025,\"2024-01-25\",\"Electronics\",\"Bose QuietComfort 35 Headphones\",1,299.99,299.99,\"North America\",\"Credit Card\"),\n",
    "        (10026,\"2024-01-26\",\"Home Appliances\",\"Panasonic NN-SN966S Microwave\",1,179.99,179.99,\"Europe\",\"PayPal\"),\n",
    "        (10027,\"2024-01-27\",\"Clothing\",\"Adidas Ultraboost Shoes\",2,179.99,359.98,\"Asia\",\"Debit Card\"),\n",
    "        (10028,\"2024-01-28\",\"Books\",\"Pride and Prejudice by Jane Austen\",3,12.99,38.97,\"North America\",\"Credit Card\"),\n",
    "        (10029,\"2024-01-29\",\"Beauty Products\",\"MAC Ruby Woo Lipstick\",1,29.99,29.99,\"Europe\",\"PayPal\"),\n",
    "        (10030,\"2024-01-30\",\"Sports\",\"Nike Air Zoom Pegasus 37\",2,129.99,259.98,\"Asia\",\"Credit Card\"),\n",
    "        (10031,\"2024-01-31\",\"Electronics\",\"Sony WH-1000XM4 Headphones\",2,349.99,699.98,\"North America\",\"Credit Card\")\n",
    "'''\n",
    "\n",
    "cursor.execute(queries_insert_1)\n",
    "    "
   ]
  },
  {
   "cell_type": "code",
   "execution_count": 5,
   "id": "ead66128-0415-4ac9-9987-ea69faf65ad2",
   "metadata": {},
   "outputs": [
    {
     "name": "stdout",
     "output_type": "stream",
     "text": [
      "('Beauty Products', 5, 699.95)\n",
      "('Books', 14, 308.86)\n",
      "('Clothing', 16, 1789.84)\n",
      "('Electronics', 10, 7999.9)\n",
      "('Home Appliances', 6, 2169.94)\n",
      "('Sports', 17, 1579.83)\n"
     ]
    }
   ],
   "source": [
    "query_select_category = '''\n",
    "    SELECT `Product Category`, \n",
    "        SUM(`Units Sold`) AS `Total Unit Sold`, \n",
    "        SUM(`Unit Price` * `Units Sold`) AS `Revenue by Category` \n",
    "        FROM online_sales \n",
    "        GROUP BY `Product Category`\n",
    "'''\n",
    "\n",
    "cursor.execute(query_select_category)\n",
    "rows_1 = cursor.fetchall()\n",
    "\n",
    "for row in rows_1 :\n",
    "    print(row)"
   ]
  },
  {
   "cell_type": "code",
   "execution_count": 6,
   "id": "e7b62ef9-0664-43be-a02f-25114397e046",
   "metadata": {},
   "outputs": [],
   "source": [
    "df_sales = pd.read_sql_query(query_select_category, conn)"
   ]
  },
  {
   "cell_type": "code",
   "execution_count": 7,
   "id": "50634bf4-1b3d-4780-8bc7-191c6ca19ff7",
   "metadata": {},
   "outputs": [
    {
     "data": {
      "text/html": [
       "<div>\n",
       "<style scoped>\n",
       "    .dataframe tbody tr th:only-of-type {\n",
       "        vertical-align: middle;\n",
       "    }\n",
       "\n",
       "    .dataframe tbody tr th {\n",
       "        vertical-align: top;\n",
       "    }\n",
       "\n",
       "    .dataframe thead th {\n",
       "        text-align: right;\n",
       "    }\n",
       "</style>\n",
       "<table border=\"1\" class=\"dataframe\">\n",
       "  <thead>\n",
       "    <tr style=\"text-align: right;\">\n",
       "      <th></th>\n",
       "      <th>Product Category</th>\n",
       "      <th>Total Unit Sold</th>\n",
       "      <th>Revenue by Category</th>\n",
       "    </tr>\n",
       "  </thead>\n",
       "  <tbody>\n",
       "    <tr>\n",
       "      <th>0</th>\n",
       "      <td>Beauty Products</td>\n",
       "      <td>5</td>\n",
       "      <td>699.95</td>\n",
       "    </tr>\n",
       "    <tr>\n",
       "      <th>1</th>\n",
       "      <td>Books</td>\n",
       "      <td>14</td>\n",
       "      <td>308.86</td>\n",
       "    </tr>\n",
       "    <tr>\n",
       "      <th>2</th>\n",
       "      <td>Clothing</td>\n",
       "      <td>16</td>\n",
       "      <td>1789.84</td>\n",
       "    </tr>\n",
       "    <tr>\n",
       "      <th>3</th>\n",
       "      <td>Electronics</td>\n",
       "      <td>10</td>\n",
       "      <td>7999.90</td>\n",
       "    </tr>\n",
       "    <tr>\n",
       "      <th>4</th>\n",
       "      <td>Home Appliances</td>\n",
       "      <td>6</td>\n",
       "      <td>2169.94</td>\n",
       "    </tr>\n",
       "    <tr>\n",
       "      <th>5</th>\n",
       "      <td>Sports</td>\n",
       "      <td>17</td>\n",
       "      <td>1579.83</td>\n",
       "    </tr>\n",
       "  </tbody>\n",
       "</table>\n",
       "</div>"
      ],
      "text/plain": [
       "  Product Category  Total Unit Sold  Revenue by Category\n",
       "0  Beauty Products                5               699.95\n",
       "1            Books               14               308.86\n",
       "2         Clothing               16              1789.84\n",
       "3      Electronics               10              7999.90\n",
       "4  Home Appliances                6              2169.94\n",
       "5           Sports               17              1579.83"
      ]
     },
     "execution_count": 7,
     "metadata": {},
     "output_type": "execute_result"
    }
   ],
   "source": [
    "df_sales"
   ]
  },
  {
   "cell_type": "code",
   "execution_count": 13,
   "id": "6803aada-5d7d-48d4-b60c-e02e06ed09ad",
   "metadata": {},
   "outputs": [
    {
     "data": {
      "image/png": "[encoded data removed]",
      "text/plain": [
       "<Figure size 640x480 with 1 Axes>"
      ]
     },
     "metadata": {},
     "output_type": "display_data"
    }
   ],
   "source": [
    "df_sales.plot(kind='bar', x='Product Category', y='Revenue by Category', legend=False)\n",
    "plt.title('Revenue by Product Category')\n",
    "plt.xlabel('Product Category')\n",
    "plt.ylabel('Revenue')\n",
    "plt.xticks(rotation=45, ha='right')\n",
    "plt.tight_layout()"
   ]
  },
  {
   "cell_type": "code",
   "execution_count": 11,
   "id": "ecb5afc0-77ad-43f3-b948-4d7bf0ec2340",
   "metadata": {},
   "outputs": [
    {
     "data": {
      "text/plain": [
       "<Figure size 640x480 with 0 Axes>"
      ]
     },
     "metadata": {},
     "output_type": "display_data"
    }
   ],
   "source": [
    "plt.savefig('sales_chart.png')"
   ]
  }
 ],
 "metadata": {
  "kernelspec": {
   "display_name": "Python [conda env:base] *",
   "language": "python",
   "name": "conda-base-py"
  },
  "language_info": {
   "codemirror_mode": {
    "name": "ipython",
    "version": 3
   },
   "file_extension": ".py",
   "mimetype": "text/x-python",
   "name": "python",
   "nbconvert_exporter": "python",
   "pygments_lexer": "ipython3",
   "version": "3.12.7"
  }
 },
 "nbformat": 4,
 "nbformat_minor": 5
}
